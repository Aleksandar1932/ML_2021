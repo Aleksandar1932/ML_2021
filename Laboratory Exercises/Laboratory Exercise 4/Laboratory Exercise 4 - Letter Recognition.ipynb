{
 "cells": [
  {
   "cell_type": "markdown",
   "id": "3028accb-0cea-4860-95e7-b53e57d33bfe",
   "metadata": {},
   "source": [
    "# <font color=\"grey\">Utilities</font>"
   ]
  },
  {
   "cell_type": "markdown",
   "id": "bfd76f11-50ae-469c-b42e-d0733d2fa191",
   "metadata": {},
   "source": [
    "Execute `%pip install -r requirements.txt` in order to install the dependencies."
   ]
  },
  {
   "cell_type": "markdown",
   "id": "6630454d-7bf9-449a-a169-bec71980fa6e",
   "metadata": {},
   "source": [
    "## <font color=\"grey\">Imports</font>"
   ]
  },
  {
   "cell_type": "code",
   "execution_count": null,
   "id": "dca1b4c4-568b-4f51-9256-f92ddb9f209e",
   "metadata": {},
   "outputs": [],
   "source": [
    "# Data wrangling\n",
    "import pandas as pd\n",
    "import numpy as np\n",
    "\n",
    "# Plotting\n",
    "import matplotlib.pyplot as plt\n",
    "import plotly.express as px\n",
    "import plotly.io as pio\n",
    "pio.renderers.default = 'iframe'\n",
    "import seaborn as sns\n",
    "sns.set_style(\"darkgrid\")\n",
    "\n",
    "# Misc\n",
    "from warnings import simplefilter\n",
    "from sklearn.exceptions import ConvergenceWarning\n",
    "simplefilter(\"ignore\", category=ConvergenceWarning)\n",
    "from IPython.display import HTML\n",
    "\n",
    "# Model Selection & Evaluation\n",
    "from sklearn.metrics import classification_report, f1_score, accuracy_score, precision_score, recall_score\n",
    "from sklearn.model_selection import GridSearchCV\n",
    "\n",
    "# Models\n",
    "from sklearn.decomposition import PCA\n",
    "from sklearn.preprocessing import LabelEncoder\n",
    "from sklearn.linear_model import LogisticRegression\n",
    "from sklearn.discriminant_analysis import QuadraticDiscriminantAnalysis"
   ]
  },
  {
   "cell_type": "markdown",
   "id": "45646541-29b0-4b1a-8e96-24341981a680",
   "metadata": {},
   "source": [
    "## <font color=\"grey\">Helper Functions</font>"
   ]
  },
  {
   "cell_type": "code",
   "execution_count": null,
   "id": "c3c9474d-8e2f-4270-8bee-2f045e4bf7e8",
   "metadata": {},
   "outputs": [],
   "source": [
    "def evaluate_model(y_true, y_pred):\n",
    "    metrics = {}\n",
    "    \n",
    "    metrics['accuracy_score'] = accuracy_score(y_true, y_pred)\n",
    "    metrics['f1_score_micro'] = f1_score(y_true, y_pred,average='micro')\n",
    "    metrics['precision_score_micro'] = precision_score(y_true, y_pred, average='micro')\n",
    "    \n",
    "    return metrics"
   ]
  },
  {
   "cell_type": "code",
   "execution_count": null,
   "id": "3f4ee636-e780-43ac-bcfb-6fb3dc51b8b5",
   "metadata": {},
   "outputs": [],
   "source": [
    "def get_grid_search_results(clf):\n",
    "    return {k: v for k, v in sorted(dict(zip([str(a) for a in clf.cv_results_['params']], clf.cv_results_['mean_test_score'])).items(), reverse=True, key=lambda item: item[1])}"
   ]
  },
  {
   "cell_type": "code",
   "execution_count": null,
   "id": "7fe59835-55ce-4ba1-a3e6-a231711b4545",
   "metadata": {},
   "outputs": [],
   "source": [
    "def highlight_max(data, color='yellow'):\n",
    "    '''\n",
    "    highlight the maximum in a Series or DataFrame\n",
    "    '''\n",
    "    attr = 'background-color: {}'.format(color)\n",
    "    #remove % and cast to float\n",
    "    data = data.replace('%','', regex=True).astype(float)\n",
    "    if data.ndim == 1:  # Series from .apply(axis=0) or axis=1\n",
    "        is_max = data == data.max()\n",
    "        return [attr if v else '' for v in is_max]\n",
    "    else:  # from .apply(axis=None)\n",
    "        is_max = data == data.max().max()\n",
    "        return pd.DataFrame(np.where(is_max, attr, ''),\n",
    "                            index=data.index, columns=data.columns)"
   ]
  },
  {
   "cell_type": "markdown",
   "id": "be3c0347-aac5-4055-8645-7cca784551ea",
   "metadata": {},
   "source": [
    "# Load Data"
   ]
  },
  {
   "cell_type": "code",
   "execution_count": null,
   "id": "1c707e6d-765e-4322-8b49-1b7942b3dff3",
   "metadata": {},
   "outputs": [],
   "source": [
    "df = pd.read_csv('datasets/letter-recognition.csv')"
   ]
  },
  {
   "cell_type": "code",
   "execution_count": null,
   "id": "e3a082e5-d65e-47c6-9510-4f67ce768541",
   "metadata": {},
   "outputs": [],
   "source": [
    "df.columns =['lettr',\n",
    "'x-box',\n",
    "'y-box',\n",
    "'width',\n",
    "'high',\n",
    "'onpix',\n",
    "'x-bar',\n",
    "'y-bar',\n",
    "'x2bar',\n",
    "'y2bar',\n",
    "'xybar',\n",
    "'x2ybr',\n",
    "'xy2br',\n",
    "'x-ege',\n",
    "'xegvy',\n",
    "'y-ege',\n",
    "'yegvx'\n",
    "]"
   ]
  },
  {
   "cell_type": "markdown",
   "id": "12dd7098-631d-4957-b8c7-0123c4595959",
   "metadata": {},
   "source": [
    "# Exploratory Data Analysis"
   ]
  },
  {
   "cell_type": "markdown",
   "id": "996edd85-d890-4b86-a17f-3778e6622396",
   "metadata": {},
   "source": [
    "## Descriptive Statistics"
   ]
  },
  {
   "cell_type": "code",
   "execution_count": null,
   "id": "1c4e9ec1-4f71-4351-b151-ce9f978257dd",
   "metadata": {},
   "outputs": [],
   "source": [
    "df.head()"
   ]
  },
  {
   "cell_type": "code",
   "execution_count": null,
   "id": "10bbfcb7-7743-42bd-ada6-e78ca66c736c",
   "metadata": {},
   "outputs": [],
   "source": [
    "df.describe()"
   ]
  },
  {
   "cell_type": "code",
   "execution_count": null,
   "id": "8575f799-f162-4cc7-9629-c33b2d6541f4",
   "metadata": {},
   "outputs": [],
   "source": [
    "df.isna().any().any()"
   ]
  },
  {
   "cell_type": "markdown",
   "id": "c49c9543-d132-48a2-b9e3-60e3b22fbeb7",
   "metadata": {},
   "source": [
    "We can conclude that there are not missing values in our data."
   ]
  },
  {
   "cell_type": "code",
   "execution_count": null,
   "id": "8f1784a2-1e09-4991-9546-847521ac3025",
   "metadata": {},
   "outputs": [],
   "source": [
    "df.info()"
   ]
  },
  {
   "cell_type": "markdown",
   "id": "6a151e8c-4b50-4298-a611-6d6994a7c3fe",
   "metadata": {},
   "source": [
    "## Feature distributions"
   ]
  },
  {
   "cell_type": "markdown",
   "id": "660a6db3-902d-4d8f-b1db-3432fca21f42",
   "metadata": {},
   "source": [
    "### Distribution of the classes"
   ]
  },
  {
   "cell_type": "code",
   "execution_count": null,
   "id": "35224418-8537-44b2-a4b3-ff7e112fca88",
   "metadata": {},
   "outputs": [],
   "source": [
    "un = df['lettr'].value_counts().to_frame()\n",
    "un.columns = ['counts']"
   ]
  },
  {
   "cell_type": "code",
   "execution_count": null,
   "id": "4e2d97f2-4d37-4c85-b23a-a810e6aa4867",
   "metadata": {},
   "outputs": [],
   "source": [
    "fig = px.histogram(x=un.index.values, y=un.counts)\n",
    "HTML(fig.to_html())"
   ]
  },
  {
   "cell_type": "markdown",
   "id": "55f517ac-1d65-4623-b7f5-1e2c99623535",
   "metadata": {},
   "source": [
    "The classes are nearly uniformly distributed, so using accuracy as metric would provide significant results."
   ]
  },
  {
   "cell_type": "markdown",
   "id": "be290fa6-4ee0-424d-acdf-00e9f7d97bda",
   "metadata": {},
   "source": [
    "### Distributions of the features"
   ]
  },
  {
   "cell_type": "code",
   "execution_count": null,
   "id": "e64e2b07-12de-4f94-b780-91f9c5cfd86c",
   "metadata": {},
   "outputs": [],
   "source": [
    "def __get_distplot(df, feature):\n",
    "    return sns.displot(df[feature], kde=True)"
   ]
  },
  {
   "cell_type": "code",
   "execution_count": null,
   "id": "2657821d-991a-45de-b837-d8ea360bbad0",
   "metadata": {},
   "outputs": [],
   "source": [
    "for feature in df.columns:\n",
    "    if feature != 'lettr':\n",
    "        __get_distplot(df, feature)"
   ]
  },
  {
   "cell_type": "markdown",
   "id": "8b674858-5dad-4d0b-9373-8b2c9dceb370",
   "metadata": {},
   "source": [
    "### Boxplots"
   ]
  },
  {
   "cell_type": "code",
   "execution_count": null,
   "id": "aaf3c47f-e703-4a8a-ad06-5fa95b5bdd47",
   "metadata": {},
   "outputs": [],
   "source": [
    "for feature in df.columns:\n",
    "    if feature != 'lettr':\n",
    "        fig = px.box(df[feature])\n",
    "        display(HTML(fig.to_html()))"
   ]
  },
  {
   "cell_type": "markdown",
   "id": "e0f71a3c-e231-4df3-8229-9f00166a3470",
   "metadata": {},
   "source": [
    "## Between feature correlation"
   ]
  },
  {
   "cell_type": "markdown",
   "id": "b2c7c2b7-24e8-471b-8391-8589392b94d6",
   "metadata": {},
   "source": [
    "### Pair Plots"
   ]
  },
  {
   "cell_type": "code",
   "execution_count": null,
   "id": "212248d0-96d5-4e4a-8352-d2c327d315b0",
   "metadata": {},
   "outputs": [],
   "source": [
    "sns.pairplot(df)"
   ]
  },
  {
   "cell_type": "markdown",
   "id": "bb605db8-9dbb-42b3-a0cb-76ad1acd174f",
   "metadata": {},
   "source": [
    "### Joint-plots"
   ]
  },
  {
   "cell_type": "code",
   "execution_count": null,
   "id": "48c42ebc-c4ab-4667-a862-7e5ad8f73ca1",
   "metadata": {},
   "outputs": [],
   "source": [
    "for feature_x in df.columns:\n",
    "    for feature_y in df.columns:\n",
    "        if feature_x != feature_y:\n",
    "            if not (feature_x == 'lettr' or feature_y == 'lettr'):\n",
    "#                 print(f\"{feature_x} => {feature_y}\")\n",
    "                sns.set_palette(\"gist_rainbow_r\")\n",
    "                sns.jointplot(x=feature_x, y=feature_y, kind=\"hex\",data=df )\n",
    "                plt.show()"
   ]
  },
  {
   "cell_type": "markdown",
   "id": "73b1268e-be91-4ca0-88c4-0cf2341a4869",
   "metadata": {},
   "source": [
    "## Data in vector space with reduced dimensions"
   ]
  },
  {
   "cell_type": "code",
   "execution_count": null,
   "id": "185dd6d1-ebe9-45ec-8ceb-e87acf8e5e51",
   "metadata": {},
   "outputs": [],
   "source": [
    "pca = PCA(n_components = 3)\n",
    "df_pca_3d = pca.fit_transform(df.drop(columns=['lettr']))"
   ]
  },
  {
   "cell_type": "code",
   "execution_count": null,
   "id": "61e1f807-47ec-4c3d-8cf4-22b596457413",
   "metadata": {},
   "outputs": [],
   "source": [
    "# Encode the class labels in order to use them as color map\n",
    "fig = px.scatter_3d(x=df_pca_3d[:,0], y=df_pca_3d[:,1], z=df_pca_3d[:,2], color=LabelEncoder().fit_transform(df.lettr).astype(int), labels={\n",
    "                    \"x\" : \"Component 1\",\n",
    "                    \"y\" : \"Component 2\",\n",
    "                    \"z\" : \"Component 3\",\n",
    "                    \"color\" : \"Class\"\n",
    "                 },\n",
    "                     title=\"3D\")\n",
    "HTML(fig.to_html())"
   ]
  },
  {
   "cell_type": "markdown",
   "id": "a77ffb8e-29bc-4e43-be12-9a5f30fee621",
   "metadata": {},
   "source": [
    "# Preprocessing"
   ]
  },
  {
   "cell_type": "markdown",
   "id": "ca95a280-9e59-4619-8602-6be59c1d274a",
   "metadata": {},
   "source": [
    "## Encoding"
   ]
  },
  {
   "cell_type": "markdown",
   "id": "7dd57e0e-06fd-4b56-aa13-8ac1181f5f80",
   "metadata": {},
   "source": [
    "During Exploratory Data Analysis we have observed that all of the features are numeric, i.e. of type `int64`, but the class label is nominal. The classes are letters so some order is naturally expected, so we are going to leverage `LabelEncoder`."
   ]
  },
  {
   "cell_type": "code",
   "execution_count": null,
   "id": "9ae1f413-6db1-4905-813f-daaa66202625",
   "metadata": {},
   "outputs": [],
   "source": [
    "encoder = LabelEncoder()\n",
    "y = encoder.fit_transform(df['lettr'])"
   ]
  },
  {
   "cell_type": "markdown",
   "id": "061ff784-0e0a-4567-9725-82a517a8434c",
   "metadata": {},
   "source": [
    "## Features and target split"
   ]
  },
  {
   "cell_type": "code",
   "execution_count": null,
   "id": "f5b6fc84-b75c-4d31-a1a4-d257b6b0c36e",
   "metadata": {},
   "outputs": [],
   "source": [
    "y"
   ]
  },
  {
   "cell_type": "code",
   "execution_count": null,
   "id": "4f6b7313-e66b-464b-a93b-0e956d2f7f3c",
   "metadata": {},
   "outputs": [],
   "source": [
    "X = df.drop(columns=['lettr'])"
   ]
  },
  {
   "cell_type": "code",
   "execution_count": null,
   "id": "35f77527-c93a-40c1-9f34-5ce2e025cce9",
   "metadata": {},
   "outputs": [],
   "source": [
    "X.shape"
   ]
  },
  {
   "cell_type": "code",
   "execution_count": null,
   "id": "03724e94-ab6f-4520-b87c-03b4116439f4",
   "metadata": {},
   "outputs": [],
   "source": [
    "y.shape"
   ]
  },
  {
   "cell_type": "markdown",
   "id": "1440ec4f-594d-4eb7-a04a-999cbe7578ca",
   "metadata": {},
   "source": [
    "## Scaling"
   ]
  },
  {
   "cell_type": "code",
   "execution_count": null,
   "id": "816e5419-3dc0-4492-b7dd-6547b7a54e0f",
   "metadata": {},
   "outputs": [],
   "source": [
    "from sklearn.preprocessing import StandardScaler"
   ]
  },
  {
   "cell_type": "code",
   "execution_count": null,
   "id": "06c8f07a-b8f5-4b95-9619-8d2db3fb8b62",
   "metadata": {},
   "outputs": [],
   "source": [
    "scaler = StandardScaler()\n",
    "X = scaler.fit_transform(X)"
   ]
  },
  {
   "cell_type": "markdown",
   "id": "769a81a8-08f3-4826-9891-76a8e231524c",
   "metadata": {},
   "source": [
    "## Train Test Split"
   ]
  },
  {
   "cell_type": "code",
   "execution_count": null,
   "id": "ad4746eb-fcfb-43bd-aa44-e399448af5cd",
   "metadata": {},
   "outputs": [],
   "source": [
    "from ipywidgets import interact, widgets\n",
    "test_size = interact(lambda x : x+0.05,x=widgets.FloatSlider(min=0,max=0.50,value=0.15))"
   ]
  },
  {
   "cell_type": "code",
   "execution_count": null,
   "id": "52015760-defe-4581-ae07-40129fef3475",
   "metadata": {},
   "outputs": [],
   "source": [
    "from sklearn.model_selection import train_test_split\n",
    "X_train, X_test, y_train, y_test = train_test_split(X, y, test_size=float(test_size.widget.result))\n",
    "\n",
    "print(f\"Train shape: {X_train.shape}\")\n",
    "print(f\"Test shape: {X_test.shape}\")"
   ]
  },
  {
   "cell_type": "markdown",
   "id": "6d219276-df26-4aaa-9a5f-a789360434f5",
   "metadata": {},
   "source": [
    "# Classification Models"
   ]
  },
  {
   "cell_type": "markdown",
   "id": "470f9098-ad25-45f7-8e51-99fca14245c5",
   "metadata": {},
   "source": [
    "In order to find the best model for our problem, several models which were covered during the course are going to be leveraged. Hyperparameters of each model are going to be tuned using grid search, provided by `sklearn`, and for the final model the combination which results in the best accuracy is going to be chosen. All of the metrics for the models are going to be calculated using the `evaluate_model()` function defined in *Helper Functions*. "
   ]
  },
  {
   "cell_type": "code",
   "execution_count": null,
   "id": "a015a136-0b58-4d49-b7b7-1d1a28f6dd83",
   "metadata": {},
   "outputs": [],
   "source": [
    "# Dictionary containing all the metrics for trained and evaluated models\n",
    "# key: model_name\n",
    "# value: collection of metrics provided from `evaluate_model()`\n",
    "metrics = {}"
   ]
  },
  {
   "cell_type": "markdown",
   "id": "ebb8e5f1-fec4-49a1-82fc-4c4f6196ad9a",
   "metadata": {},
   "source": [
    "## Training and Evaluation"
   ]
  },
  {
   "cell_type": "markdown",
   "id": "63303fce-7944-4762-8cf7-cbd720df2c1a",
   "metadata": {},
   "source": [
    "### Logistic Regression"
   ]
  },
  {
   "cell_type": "code",
   "execution_count": null,
   "id": "4f33873b-c67b-4c33-8d33-77fb94450bda",
   "metadata": {},
   "outputs": [],
   "source": [
    "# Grid Search for the best hyper-parameters\n",
    "lr = LogisticRegression()\n",
    "parameters = {'solver' : ['newton-cg', 'lbfgs', 'liblinear', 'sag', 'saga']}\n",
    "clf = GridSearchCV(lr, parameters, n_jobs=6)\n",
    "%time clf.fit(X_train, y_train)"
   ]
  },
  {
   "cell_type": "code",
   "execution_count": null,
   "id": "252c755f-0772-48f9-a06a-8e321a7a1d0c",
   "metadata": {},
   "outputs": [],
   "source": [
    "get_grid_search_results(clf)"
   ]
  },
  {
   "cell_type": "markdown",
   "id": "8521d5fd-a50e-4fe0-b0f4-707dbf8536bf",
   "metadata": {},
   "source": [
    "From the Grid Search and cross-validation we can observe that using `newton-cg` as solver provides the best mean test score."
   ]
  },
  {
   "cell_type": "code",
   "execution_count": null,
   "id": "3791a620-030d-4d06-8841-0a333adc5b2d",
   "metadata": {},
   "outputs": [],
   "source": [
    "lr = LogisticRegression(solver='newton-cg')\n",
    "lr.fit(X, y)\n",
    "y_pred = lr.predict(X_test)\n",
    "metrics['logistic_regression'] = evaluate_model(y_test, y_pred)"
   ]
  },
  {
   "cell_type": "markdown",
   "id": "2faeefed-9dcd-4342-a557-64924772b43b",
   "metadata": {},
   "source": [
    "### QDA"
   ]
  },
  {
   "cell_type": "code",
   "execution_count": null,
   "id": "6efef2c5-4d24-4d55-96bf-946a6c49cf53",
   "metadata": {},
   "outputs": [],
   "source": [
    "# Grid Search for the best hyper-parameters\n",
    "qda = QuadraticDiscriminantAnalysis()\n",
    "parameters = {'reg_param' : np.arange(0, 1, 0.05)}\n",
    "clf = GridSearchCV(qda, parameters)\n",
    "clf.fit(X_train, y_train)"
   ]
  },
  {
   "cell_type": "code",
   "execution_count": null,
   "id": "39a663f7-8784-4c49-aa73-799e10cf464c",
   "metadata": {},
   "outputs": [],
   "source": [
    "get_grid_search_results(clf)"
   ]
  },
  {
   "cell_type": "code",
   "execution_count": null,
   "id": "54e40f74-edb1-4568-b49b-ff6327f84b8e",
   "metadata": {},
   "outputs": [],
   "source": [
    "qda = QuadraticDiscriminantAnalysis(reg_param=0)\n",
    "qda.fit(X_train, y_train)\n",
    "y_pred = qda.predict(X_test)\n",
    "metrics['quadratic_discriminant_analysis'] = evaluate_model(y_test, y_pred)"
   ]
  },
  {
   "cell_type": "markdown",
   "id": "a9cce77d-0af7-4292-8f32-af1e7e893e8a",
   "metadata": {},
   "source": [
    "### LDA"
   ]
  },
  {
   "cell_type": "code",
   "execution_count": null,
   "id": "6aac7b6c-8b4f-4dec-8fac-a38d011b1d1f",
   "metadata": {},
   "outputs": [],
   "source": [
    "from sklearn.discriminant_analysis import LinearDiscriminantAnalysis\n",
    "\n",
    "# Grid Search for the best hyper-parameters\n",
    "lda = LinearDiscriminantAnalysis()\n",
    "parameters = {'solver' : ['svd', 'lsqr', 'eigen']}\n",
    "clf = GridSearchCV(lda, parameters)\n",
    "clf.fit(X_train, y_train)"
   ]
  },
  {
   "cell_type": "code",
   "execution_count": null,
   "id": "0e93a6f7-c05e-4d48-8f9d-7d7107668ca4",
   "metadata": {},
   "outputs": [],
   "source": [
    "get_grid_search_results(clf)"
   ]
  },
  {
   "cell_type": "code",
   "execution_count": null,
   "id": "1c74dd46-caaa-49ed-99c9-bf88652f2d54",
   "metadata": {},
   "outputs": [],
   "source": [
    "lda = LinearDiscriminantAnalysis(solver='svd')\n",
    "lda.fit(X_train, y_train)\n",
    "y_pred = lda.predict(X_test)\n",
    "metrics['linear_discriminant_analysis'] = evaluate_model(y_test, y_pred)"
   ]
  },
  {
   "cell_type": "markdown",
   "id": "df33ce49-6104-4bad-96d9-34378e1412a0",
   "metadata": {},
   "source": [
    "### Support Vector Machines (SVM)"
   ]
  },
  {
   "cell_type": "code",
   "execution_count": null,
   "id": "83631456-19f4-47ef-a940-86563f22c03d",
   "metadata": {},
   "outputs": [],
   "source": [
    "from sklearn.svm import SVC\n",
    "\n",
    "# Grid Search for the best hyper-parameters\n",
    "svm = SVC()\n",
    "parameters = {'kernel' : ['linear', 'poly', 'rbf', 'sigmoid'], \n",
    "              'degree': [2, 3, 4]\n",
    "             }\n",
    "\n",
    "clf = GridSearchCV(svm, parameters)\n",
    "%time clf.fit(X_train, y_train)"
   ]
  },
  {
   "cell_type": "code",
   "execution_count": null,
   "id": "954ccde7-7681-4171-b6ce-21aacaf41586",
   "metadata": {},
   "outputs": [],
   "source": [
    "get_grid_search_results(clf)"
   ]
  },
  {
   "cell_type": "code",
   "execution_count": null,
   "id": "c415e402-8959-403e-9bf8-89f2ffed3a78",
   "metadata": {},
   "outputs": [],
   "source": [
    "svm = SVC(kernel='rbf') # degree is going to be discarted because it is only used in combination with polynomial kernel\n",
    "svm.fit(X_train, y_train)\n",
    "y_pred = svm.predict(X_test)\n",
    "metrics['svm'] = evaluate_model(y_test, y_pred)"
   ]
  },
  {
   "cell_type": "markdown",
   "id": "6a5640a8-471b-425f-8598-b00f93243438",
   "metadata": {},
   "source": [
    "### Decision Tree"
   ]
  },
  {
   "cell_type": "code",
   "execution_count": null,
   "id": "b2f658b5-f86e-44f0-b4e7-0c77fa480d56",
   "metadata": {},
   "outputs": [],
   "source": [
    "from sklearn.tree import DecisionTreeClassifier\n",
    "\n",
    "# Grid Search for the best hyper-parameters\n",
    "dt = DecisionTreeClassifier()\n",
    "parameters = {'criterion' : ['gini', 'entropy'], 'splitter': ['best', 'random'], 'max_depth': [5, 10, 15, 20], 'min_samples_split' : [2, 4, 6, 8]}\n",
    "clf = GridSearchCV(dt, parameters)\n",
    "clf.fit(X_train, y_train)"
   ]
  },
  {
   "cell_type": "code",
   "execution_count": null,
   "id": "5894d69a-e1b6-4fb5-8e3c-729546687638",
   "metadata": {},
   "outputs": [],
   "source": [
    "get_grid_search_results(clf)"
   ]
  },
  {
   "cell_type": "code",
   "execution_count": null,
   "id": "bae7bfb6-70fe-468d-bb40-1e6650dde567",
   "metadata": {},
   "outputs": [],
   "source": [
    "dt = DecisionTreeClassifier(criterion='entropy', max_depth=20, min_samples_split=2, splitter='best')\n",
    "dt.fit(X_train, y_train)\n",
    "y_pred = dt.predict(X_test)\n",
    "metrics['decision_tree'] = evaluate_model(y_test, y_pred)"
   ]
  },
  {
   "cell_type": "markdown",
   "id": "90361eb9-8caf-431f-a616-ab77cea8c573",
   "metadata": {},
   "source": [
    "### Random Forest"
   ]
  },
  {
   "cell_type": "code",
   "execution_count": null,
   "id": "6790cb4c-2a18-441c-a01e-5487965c0111",
   "metadata": {},
   "outputs": [],
   "source": [
    "from sklearn.ensemble import RandomForestClassifier\n",
    "\n",
    "# Grid Search for the best hyper-parameters\n",
    "rf = RandomForestClassifier()\n",
    "parameters = {'n_estimators':[50, 100, 200], \n",
    "              'criterion' : ['gini', 'entropy'], \n",
    "              'max_depth': [5, 10, 15, 20], \n",
    "             }\n",
    "clf = GridSearchCV(rf, parameters)\n",
    "%time clf.fit(X_train, y_train)"
   ]
  },
  {
   "cell_type": "code",
   "execution_count": null,
   "id": "b1de9a36-d7e4-417d-92f6-8cd0ad504a82",
   "metadata": {},
   "outputs": [],
   "source": [
    "get_grid_search_results(clf)"
   ]
  },
  {
   "cell_type": "code",
   "execution_count": null,
   "id": "c0128361-6bab-4f7b-a196-0f7faa11edab",
   "metadata": {},
   "outputs": [],
   "source": [
    "rf = RandomForestClassifier(n_estimators=200)\n",
    "rf.fit(X_train, y_train)\n",
    "y_pred = rf.predict(X_test)\n",
    "metrics['random_forest'] = evaluate_model(y_test, y_pred)"
   ]
  },
  {
   "cell_type": "markdown",
   "id": "8ac5de67-c162-4cb3-89e1-a39f49afc89a",
   "metadata": {},
   "source": [
    "### Multi Layered Perceptron"
   ]
  },
  {
   "cell_type": "code",
   "execution_count": null,
   "id": "83fbdc39-c8e4-4500-9c0e-3bf0fea128bc",
   "metadata": {},
   "outputs": [],
   "source": [
    "from sklearn.neural_network import MLPClassifier\n",
    "\n",
    "mlp = MLPClassifier(verbose=True)\n",
    "parameters = {'hidden_layer_sizes':[(100,), (32, 64), (16, 32, 32, 32, 16, 8)], \n",
    "              'solver' : ['adam'],\n",
    "              'activation': ['relu', 'tanh']\n",
    "             }\n",
    "clf = GridSearchCV(mlp, parameters)\n",
    "%time clf.fit(X_train, y_train)"
   ]
  },
  {
   "cell_type": "code",
   "execution_count": null,
   "id": "71fc1714-7fe1-45c6-893c-368fe57bda1f",
   "metadata": {},
   "outputs": [],
   "source": [
    "get_grid_search_results(clf)"
   ]
  },
  {
   "cell_type": "code",
   "execution_count": null,
   "id": "76b1f5fe-3855-4527-a852-be6def7c9b7a",
   "metadata": {},
   "outputs": [],
   "source": [
    "mlp = MLPClassifier(random_state=1, hidden_layer_sizes = (100,), max_iter=300, activation='tanh')\n",
    "%time mlp.fit(X_train, y_train)\n",
    "y_pred = mlp.predict(X_test)\n",
    "metrics['mlp'] = evaluate_model(y_test, y_pred)"
   ]
  },
  {
   "cell_type": "code",
   "execution_count": null,
   "id": "82a9e139-8cff-4bc3-a165-e80838b91527",
   "metadata": {},
   "outputs": [],
   "source": [
    "y_pred = mlp.predict(X_test)\n",
    "evaluate_model(y_test, y_pred)"
   ]
  },
  {
   "cell_type": "markdown",
   "id": "668c013a-21fb-4a42-a02e-e999a8d3991c",
   "metadata": {},
   "source": [
    "## Comparison"
   ]
  },
  {
   "cell_type": "code",
   "execution_count": null,
   "id": "d056cf9a-48e1-4849-a16c-a7326816a64d",
   "metadata": {},
   "outputs": [],
   "source": [
    "metrics_df = pd.DataFrame.from_dict(metrics, orient='index')\n",
    "metrics_df.style.apply(highlight_max)"
   ]
  },
  {
   "cell_type": "markdown",
   "id": "25851180-7eb9-420a-990c-f50a854acb57",
   "metadata": {},
   "source": [
    "# Conclusion"
   ]
  },
  {
   "cell_type": "markdown",
   "id": "94a8c354-74e1-49d9-a45c-bc21e7731eea",
   "metadata": {},
   "source": [
    "`RandomForestClassifier` with 200 estimators provided the best results on the test set. Test set was determined with bootstrapping in several iterations the results were the best"
   ]
  },
  {
   "cell_type": "markdown",
   "id": "1a406fa4-5341-44cc-80c4-d74f594efac7",
   "metadata": {},
   "source": [
    "## Train RandomForestClassifier"
   ]
  },
  {
   "cell_type": "code",
   "execution_count": null,
   "id": "8443a5a1-07ad-41a0-a1a4-9d12c0f3bc18",
   "metadata": {},
   "outputs": [],
   "source": [
    "rf = RandomForestClassifier(n_estimators=200)\n",
    "rf.fit(X_train, y_train)"
   ]
  },
  {
   "cell_type": "markdown",
   "id": "aed8a62a-c1eb-4bb4-a967-439f0769cbda",
   "metadata": {},
   "source": [
    "This trained model can be used to classify other unseen samples."
   ]
  },
  {
   "cell_type": "markdown",
   "id": "309443d0-0199-4da8-9732-4a2c654e2cae",
   "metadata": {},
   "source": [
    "## Classify arbitrary sample"
   ]
  },
  {
   "cell_type": "code",
   "execution_count": null,
   "id": "37d90258-280f-49d2-9bc3-316de25089da",
   "metadata": {},
   "outputs": [],
   "source": [
    "sample = [ 0.5103336 ,  0.89711149,  0.43585819,  1.16191044,  0.68208278,\n",
    "        1.03772653, -1.93553538, -0.97372441,  0.34500404,  0.28847025,\n",
    "       -1.69285679,  0.51475238, -0.44856532, -2.15867493, -0.26955622,\n",
    "        0.74116389]"
   ]
  },
  {
   "cell_type": "code",
   "execution_count": null,
   "id": "51cf2117-f7f0-4809-9edd-7796868e8ad5",
   "metadata": {},
   "outputs": [],
   "source": [
    "f'The sample belongs to class {rf.predict([sample])[0]}'"
   ]
  }
 ],
 "metadata": {
  "kernelspec": {
   "display_name": "Python 3",
   "language": "python",
   "name": "python3"
  },
  "language_info": {
   "codemirror_mode": {
    "name": "ipython",
    "version": 3
   },
   "file_extension": ".py",
   "mimetype": "text/x-python",
   "name": "python",
   "nbconvert_exporter": "python",
   "pygments_lexer": "ipython3",
   "version": "3.8.6"
  }
 },
 "nbformat": 4,
 "nbformat_minor": 5
}
