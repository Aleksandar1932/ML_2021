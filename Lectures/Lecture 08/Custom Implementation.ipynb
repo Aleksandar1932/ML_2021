{
 "cells": [
  {
   "cell_type": "markdown",
   "metadata": {},
   "source": [
    "# DBSCAN custom implementation"
   ]
  },
  {
   "cell_type": "code",
   "execution_count": 6,
   "metadata": {
    "tags": []
   },
   "outputs": [],
   "source": [
    "import math\n",
    "\n",
    "def distance(p1, p2):\n",
    "    if len(p1) != len(p2):\n",
    "        return\n",
    "    \n",
    "    s = 0\n",
    "    for i in range(0, len(p1)):\n",
    "        s += (p1[i]-p2[i])**2\n",
    "\n",
    "    return math.sqrt(s)"
   ]
  },
  {
   "cell_type": "code",
   "execution_count": 72,
   "metadata": {},
   "outputs": [],
   "source": [
    "class DBSCAN:\n",
    "    def __init__(self, data, min_pts, eps):\n",
    "        self.data = data\n",
    "        self.min_pts = min_pts\n",
    "        self.eps = eps\n",
    "        \n",
    "        self.core_points = []\n",
    "        self.border_points = []\n",
    "        self.noise_points = []\n",
    "    \n",
    "    def label_points(self):\n",
    "        locality_dict = {}\n",
    "        \n",
    "        for point in data:\n",
    "            point = tuple(point)\n",
    "            locality_dict[point] = []\n",
    "            for other_point in data:\n",
    "                if point != other_point and distance(point, other_point) < self.eps:\n",
    "                    locality_dict[point].append(other_point)\n",
    "        \n",
    "        points_to_del = []\n",
    "        for (point, points_in_locality) in locality_dict.items():\n",
    "            if len(points_in_locality) > self.min_pts:\n",
    "                self.core_points.append(point)\n",
    "                points_to_del.append(point)\n",
    "        \n",
    "        for p in points_to_del:\n",
    "            del locality_dict[p]\n",
    "            \n",
    "        \n",
    "        \n",
    "    \n",
    "    def merge_core_points():\n",
    "        pass\n",
    "    \n",
    "    def assign_border_points():\n",
    "        pass"
   ]
  },
  {
   "cell_type": "code",
   "execution_count": 9,
   "metadata": {},
   "outputs": [],
   "source": [
    "data = [\n",
    "    [2,1],\n",
    "    [3,1],\n",
    "    [7,1],\n",
    "    [3,3],\n",
    "    [4,4],\n",
    "    [5,4],\n",
    "    [7,4],\n",
    "    [6,5],\n",
    "    [2,5],\n",
    "    [4,6]\n",
    "]"
   ]
  },
  {
   "cell_type": "code",
   "execution_count": 79,
   "metadata": {},
   "outputs": [],
   "source": [
    "clustering = DBSCAN(data, 2, 2)"
   ]
  },
  {
   "cell_type": "code",
   "execution_count": 80,
   "metadata": {},
   "outputs": [],
   "source": [
    "clustering.label_points()"
   ]
  },
  {
   "cell_type": "code",
   "execution_count": 81,
   "metadata": {},
   "outputs": [
    {
     "data": {
      "text/plain": [
       "[(4, 4), (5, 4), (6, 5)]"
      ]
     },
     "execution_count": 81,
     "metadata": {},
     "output_type": "execute_result"
    }
   ],
   "source": [
    "clustering.core_points"
   ]
  }
 ],
 "metadata": {
  "kernelspec": {
   "display_name": "Python 3",
   "language": "python",
   "name": "python3"
  },
  "language_info": {
   "codemirror_mode": {
    "name": "ipython",
    "version": 3
   },
   "file_extension": ".py",
   "mimetype": "text/x-python",
   "name": "python",
   "nbconvert_exporter": "python",
   "pygments_lexer": "ipython3",
   "version": "3.8.6"
  }
 },
 "nbformat": 4,
 "nbformat_minor": 4
}